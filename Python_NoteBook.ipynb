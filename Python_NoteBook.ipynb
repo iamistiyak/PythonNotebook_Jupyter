{
 "cells": [
  {
   "cell_type": "markdown",
   "id": "b96cc47a",
   "metadata": {},
   "source": [
    "<b><u><h1>Python Commands\n",
    "    \n"
   ]
  },
  {
   "cell_type": "code",
   "execution_count": 1,
   "id": "ae5ac475",
   "metadata": {},
   "outputs": [
    {
     "name": "stdout",
     "output_type": "stream",
     "text": [
      "Hello World\n"
     ]
    }
   ],
   "source": [
    "print('Hello World')"
   ]
  },
  {
   "cell_type": "markdown",
   "id": "ba7465ae",
   "metadata": {},
   "source": [
    "<b><u><h1>Variables in Python"
   ]
  },
  {
   "cell_type": "code",
   "execution_count": 2,
   "id": "838314fa",
   "metadata": {},
   "outputs": [
    {
     "name": "stdout",
     "output_type": "stream",
     "text": [
      "12\n"
     ]
    }
   ],
   "source": [
    "x=12\n",
    "print(x)"
   ]
  },
  {
   "cell_type": "code",
   "execution_count": 3,
   "id": "67488c23",
   "metadata": {},
   "outputs": [
    {
     "data": {
      "text/plain": [
       "int"
      ]
     },
     "execution_count": 3,
     "metadata": {},
     "output_type": "execute_result"
    }
   ],
   "source": [
    "type(x)"
   ]
  },
  {
   "cell_type": "code",
   "execution_count": 5,
   "id": "c3085271",
   "metadata": {},
   "outputs": [
    {
     "name": "stdout",
     "output_type": "stream",
     "text": [
      "Data Analyst\n"
     ]
    }
   ],
   "source": [
    "y=\"Data Analyst\"\n",
    "print(y)"
   ]
  },
  {
   "cell_type": "code",
   "execution_count": 6,
   "id": "a6325816",
   "metadata": {},
   "outputs": [
    {
     "name": "stdout",
     "output_type": "stream",
     "text": [
      "Chocolate\n",
      "Vanilla\n",
      "Strawberry\n"
     ]
    }
   ],
   "source": [
    "x,y,z = 'Chocolate', 'Vanilla', 'Strawberry'\n",
    "print(x)\n",
    "print(y)\n",
    "print(z)"
   ]
  },
  {
   "cell_type": "code",
   "execution_count": 7,
   "id": "036a1203",
   "metadata": {},
   "outputs": [
    {
     "name": "stdout",
     "output_type": "stream",
     "text": [
      "Data Analyst Here\n",
      "Data Analyst Here\n",
      "Data Analyst Here\n"
     ]
    }
   ],
   "source": [
    "x=y=z = 'Data Analyst Here'\n",
    "print(x)\n",
    "print(y)\n",
    "print(z)"
   ]
  },
  {
   "cell_type": "code",
   "execution_count": 8,
   "id": "e9c1f2c6",
   "metadata": {},
   "outputs": [
    {
     "name": "stdout",
     "output_type": "stream",
     "text": [
      "Chocolate\n",
      "Vanilla\n",
      "Strawberry\n"
     ]
    }
   ],
   "source": [
    "ice_cream = ['Chocolate', 'Vanilla', 'Strawberry']\n",
    "\n",
    "x,y,z = ice_cream\n",
    "print(x)\n",
    "print(y)\n",
    "print(z)"
   ]
  },
  {
   "cell_type": "code",
   "execution_count": 10,
   "id": "87a4bd55",
   "metadata": {},
   "outputs": [],
   "source": [
    "#CamelCase\n",
    "\n",
    "dataAnalystProfession = 'Successful'"
   ]
  },
  {
   "cell_type": "code",
   "execution_count": null,
   "id": "3ecdbe1f",
   "metadata": {},
   "outputs": [],
   "source": [
    "#CamelCase\n",
    "\n",
    "dataAnalystProfession = 'Successful'"
   ]
  },
  {
   "cell_type": "code",
   "execution_count": null,
   "id": "3b7287bb",
   "metadata": {},
   "outputs": [],
   "source": [
    "#PascalCase\n",
    "\n",
    "DataAnalystProfession = 'Successful'"
   ]
  },
  {
   "cell_type": "code",
   "execution_count": null,
   "id": "812da480",
   "metadata": {},
   "outputs": [],
   "source": [
    "#SnakeCase\n",
    "\n",
    "data_analyst_profession = 'Successful'"
   ]
  },
  {
   "cell_type": "code",
   "execution_count": 11,
   "id": "475bc0d0",
   "metadata": {},
   "outputs": [
    {
     "ename": "TypeError",
     "evalue": "can only concatenate str (not \"int\") to str",
     "output_type": "error",
     "traceback": [
      "\u001b[1;31m---------------------------------------------------------------------------\u001b[0m",
      "\u001b[1;31mTypeError\u001b[0m                                 Traceback (most recent call last)",
      "\u001b[1;32m~\\AppData\\Local\\Temp\\ipykernel_10616\\1413135633.py\u001b[0m in \u001b[0;36m<module>\u001b[1;34m\u001b[0m\n\u001b[0;32m      1\u001b[0m \u001b[1;31m#Error\u001b[0m\u001b[1;33m\u001b[0m\u001b[1;33m\u001b[0m\u001b[0m\n\u001b[1;32m----> 2\u001b[1;33m \u001b[0mx\u001b[0m\u001b[1;33m=\u001b[0m\u001b[1;34m\"Data Analyst\"\u001b[0m\u001b[1;33m+\u001b[0m\u001b[1;36m100\u001b[0m\u001b[1;33m\u001b[0m\u001b[1;33m\u001b[0m\u001b[0m\n\u001b[0m",
      "\u001b[1;31mTypeError\u001b[0m: can only concatenate str (not \"int\") to str"
     ]
    }
   ],
   "source": [
    "#Error\n",
    "x=\"Data Analyst\"+100"
   ]
  },
  {
   "cell_type": "code",
   "execution_count": 13,
   "id": "26f17204",
   "metadata": {},
   "outputs": [
    {
     "name": "stdout",
     "output_type": "stream",
     "text": [
      "Ice-Cream is my favourite dish\n"
     ]
    }
   ],
   "source": [
    "x='Ice-Cream'\n",
    "y=' is my'\n",
    "z=' favourite dish'\n",
    "\n",
    "print(x+y+z)"
   ]
  },
  {
   "cell_type": "markdown",
   "id": "037389a2",
   "metadata": {},
   "source": [
    "<b><u><h1>Data Types"
   ]
  },
  {
   "cell_type": "code",
   "execution_count": 14,
   "id": "c875e5de",
   "metadata": {},
   "outputs": [
    {
     "data": {
      "text/plain": [
       "int"
      ]
     },
     "execution_count": 14,
     "metadata": {},
     "output_type": "execute_result"
    }
   ],
   "source": [
    "type(-12+10)"
   ]
  },
  {
   "cell_type": "code",
   "execution_count": 15,
   "id": "a845fa22",
   "metadata": {},
   "outputs": [
    {
     "data": {
      "text/plain": [
       "float"
      ]
     },
     "execution_count": 15,
     "metadata": {},
     "output_type": "execute_result"
    }
   ],
   "source": [
    "type(12+12.54)"
   ]
  },
  {
   "cell_type": "code",
   "execution_count": 16,
   "id": "8182837b",
   "metadata": {},
   "outputs": [
    {
     "data": {
      "text/plain": [
       "complex"
      ]
     },
     "execution_count": 16,
     "metadata": {},
     "output_type": "execute_result"
    }
   ],
   "source": [
    "type(5+2j)"
   ]
  },
  {
   "cell_type": "code",
   "execution_count": 17,
   "id": "831b1e53",
   "metadata": {},
   "outputs": [
    {
     "data": {
      "text/plain": [
       "bool"
      ]
     },
     "execution_count": 17,
     "metadata": {},
     "output_type": "execute_result"
    }
   ],
   "source": [
    "#Boolean\n",
    "type(True)"
   ]
  },
  {
   "cell_type": "code",
   "execution_count": 18,
   "id": "2a592531",
   "metadata": {},
   "outputs": [
    {
     "data": {
      "text/plain": [
       "str"
      ]
     },
     "execution_count": 18,
     "metadata": {},
     "output_type": "execute_result"
    }
   ],
   "source": [
    "#String\n",
    "type('Data Scientist')"
   ]
  },
  {
   "cell_type": "code",
   "execution_count": 19,
   "id": "7028eab2",
   "metadata": {},
   "outputs": [
    {
     "data": {
      "text/plain": [
       "'Data  Analyst'"
      ]
     },
     "execution_count": 19,
     "metadata": {},
     "output_type": "execute_result"
    }
   ],
   "source": [
    "\"Data  Analyst\""
   ]
  },
  {
   "cell_type": "code",
   "execution_count": 20,
   "id": "dc0cddc7",
   "metadata": {},
   "outputs": [
    {
     "data": {
      "text/plain": [
       "'Data Analyst'"
      ]
     },
     "execution_count": 20,
     "metadata": {},
     "output_type": "execute_result"
    }
   ],
   "source": [
    "'Data Analyst'"
   ]
  },
  {
   "cell_type": "code",
   "execution_count": 22,
   "id": "ba2f79ac",
   "metadata": {},
   "outputs": [
    {
     "name": "stdout",
     "output_type": "stream",
     "text": [
      "Data Analyst is great career\n",
      "You can learn a lot from it\n",
      "You can contribute to the development of the firm too.\n"
     ]
    }
   ],
   "source": [
    "multiLine = \"\"\"Data Analyst is great career\n",
    "You can learn a lot from it\n",
    "You can contribute to the development of the firm too.\"\"\"\n",
    "\n",
    "print(multiLine)"
   ]
  },
  {
   "cell_type": "code",
   "execution_count": 24,
   "id": "71a00e8a",
   "metadata": {},
   "outputs": [
    {
     "name": "stdout",
     "output_type": "stream",
     "text": [
      "\n",
      "I've always wanted to become a \"Data Analyst\"\n",
      "\n"
     ]
    }
   ],
   "source": [
    "\n",
    "multiLine = \"\"\"\n",
    "I've always wanted to become a \"Data Analyst\"\n",
    "\"\"\"\n",
    "\n",
    "print(multiLine)"
   ]
  },
  {
   "cell_type": "code",
   "execution_count": 26,
   "id": "66919ef2",
   "metadata": {},
   "outputs": [
    {
     "name": "stdout",
     "output_type": "stream",
     "text": [
      "Data Data Data Data \n"
     ]
    }
   ],
   "source": [
    "a=\"Data\"\n",
    "print((a+\" \")*4)"
   ]
  },
  {
   "cell_type": "code",
   "execution_count": 27,
   "id": "f5f858ed",
   "metadata": {},
   "outputs": [
    {
     "data": {
      "text/plain": [
       "[1, 2, 3, 4, 5]"
      ]
     },
     "execution_count": 27,
     "metadata": {},
     "output_type": "execute_result"
    }
   ],
   "source": [
    "#List\n",
    "\n",
    "[1,2,3,4,5]"
   ]
  },
  {
   "cell_type": "code",
   "execution_count": 28,
   "id": "9e8e7be2",
   "metadata": {},
   "outputs": [
    {
     "data": {
      "text/plain": [
       "['Strawberry', 5, ['Cup', 'Glass'], True]"
      ]
     },
     "execution_count": 28,
     "metadata": {},
     "output_type": "execute_result"
    }
   ],
   "source": [
    "['Strawberry', 5, ['Cup', 'Glass'], True]"
   ]
  },
  {
   "cell_type": "code",
   "execution_count": 31,
   "id": "9f8d6725",
   "metadata": {},
   "outputs": [
    {
     "name": "stdout",
     "output_type": "stream",
     "text": [
      "['Chocolate', 'Vanilla', 'Strawberry', 'Kesar Badam']\n"
     ]
    }
   ],
   "source": [
    "ice_cream = ['Chocolate', 'Vanilla', 'Strawberry']\n",
    "\n",
    "ice_cream.append('Kesar Badam')\n",
    "\n",
    "print(ice_cream)"
   ]
  },
  {
   "cell_type": "code",
   "execution_count": 32,
   "id": "69f1aa81",
   "metadata": {},
   "outputs": [
    {
     "name": "stdout",
     "output_type": "stream",
     "text": [
      "Glass\n"
     ]
    }
   ],
   "source": [
    "nest_list = ['Strawberry', 5, ['Cup', 'Glass'], True]\n",
    "\n",
    "print(nest_list[2][1])"
   ]
  },
  {
   "cell_type": "code",
   "execution_count": 47,
   "id": "2f6c8dc6",
   "metadata": {},
   "outputs": [],
   "source": [
    "#Dictionaries\n",
    "dic_ice_cream = {'name': 'Data Analyst', 'weekly intake': 4, 'Favorite ice cream': ['Strawberry', 'Butter Scotch']}\n",
    "\n"
   ]
  },
  {
   "cell_type": "code",
   "execution_count": 32,
   "id": "232451e1",
   "metadata": {},
   "outputs": [
    {
     "name": "stdout",
     "output_type": "stream",
     "text": [
      "dict_keys(['name', 'weekly intake', 'Favorite ice cream'])\n"
     ]
    }
   ],
   "source": [
    "print(dic_ice_cream.keys())"
   ]
  },
  {
   "cell_type": "code",
   "execution_count": 34,
   "id": "9dcf201c",
   "metadata": {},
   "outputs": [
    {
     "name": "stdout",
     "output_type": "stream",
     "text": [
      "dict_values(['Data Analyst', 4, ['Strawberry', 'Butter Scotch']])\n"
     ]
    }
   ],
   "source": [
    "print(dic_ice_cream.values())"
   ]
  },
  {
   "cell_type": "code",
   "execution_count": 48,
   "id": "343659a8",
   "metadata": {},
   "outputs": [
    {
     "name": "stdout",
     "output_type": "stream",
     "text": [
      "dict_items([('name', 'Data Analyst'), ('weekly intake', 4), ('Favorite ice cream', ['Strawberry', 'Butter Scotch'])])\n"
     ]
    }
   ],
   "source": [
    "print(dic_ice_cream.items())"
   ]
  },
  {
   "cell_type": "code",
   "execution_count": 39,
   "id": "827dc18d",
   "metadata": {},
   "outputs": [
    {
     "name": "stdout",
     "output_type": "stream",
     "text": [
      "{'name': 'Data Analyst', 'weekly intake': 4, 'Favorite ice cream': ['Strawberry', 'Butter Scotch']}\n"
     ]
    }
   ],
   "source": [
    "print(dic_ice_cream)"
   ]
  },
  {
   "cell_type": "code",
   "execution_count": 43,
   "id": "3a3efed2",
   "metadata": {},
   "outputs": [
    {
     "name": "stdout",
     "output_type": "stream",
     "text": [
      "Butter Scotch\n"
     ]
    }
   ],
   "source": [
    "print(dic_ice_cream['Favorite ice cream'][1])"
   ]
  },
  {
   "cell_type": "markdown",
   "id": "38950a0e",
   "metadata": {},
   "source": [
    "<b><u><h1>Comparision Operators"
   ]
  },
  {
   "cell_type": "code",
   "execution_count": 33,
   "id": "071fdff4",
   "metadata": {},
   "outputs": [],
   "source": [
    "#tuple\n",
    "\n",
    "tuple_cup = (1,2,3,2,1)"
   ]
  },
  {
   "cell_type": "code",
   "execution_count": 1,
   "id": "4b1b170e",
   "metadata": {},
   "outputs": [
    {
     "data": {
      "text/plain": [
       "False"
      ]
     },
     "execution_count": 1,
     "metadata": {},
     "output_type": "execute_result"
    }
   ],
   "source": [
    "10==50"
   ]
  },
  {
   "cell_type": "code",
   "execution_count": 2,
   "id": "345ad881",
   "metadata": {},
   "outputs": [
    {
     "data": {
      "text/plain": [
       "True"
      ]
     },
     "execution_count": 2,
     "metadata": {},
     "output_type": "execute_result"
    }
   ],
   "source": [
    "10!=50"
   ]
  },
  {
   "cell_type": "code",
   "execution_count": 3,
   "id": "7699ce41",
   "metadata": {},
   "outputs": [
    {
     "data": {
      "text/plain": [
       "True"
      ]
     },
     "execution_count": 3,
     "metadata": {},
     "output_type": "execute_result"
    }
   ],
   "source": [
    "\"Strawberry\" == \"Strawberry\""
   ]
  },
  {
   "cell_type": "code",
   "execution_count": 4,
   "id": "0e1f172a",
   "metadata": {},
   "outputs": [
    {
     "data": {
      "text/plain": [
       "True"
      ]
     },
     "execution_count": 4,
     "metadata": {},
     "output_type": "execute_result"
    }
   ],
   "source": [
    "x=\"Strawberry\"\n",
    "y=\"Vanila\"\n",
    "\n",
    "x!=y"
   ]
  },
  {
   "cell_type": "code",
   "execution_count": 5,
   "id": "7948bc70",
   "metadata": {},
   "outputs": [
    {
     "data": {
      "text/plain": [
       "False"
      ]
     },
     "execution_count": 5,
     "metadata": {},
     "output_type": "execute_result"
    }
   ],
   "source": [
    "10<10"
   ]
  },
  {
   "cell_type": "code",
   "execution_count": 7,
   "id": "d2cd4273",
   "metadata": {},
   "outputs": [
    {
     "data": {
      "text/plain": [
       "True"
      ]
     },
     "execution_count": 7,
     "metadata": {},
     "output_type": "execute_result"
    }
   ],
   "source": [
    "10<=10"
   ]
  },
  {
   "cell_type": "code",
   "execution_count": 8,
   "id": "d685b5cf",
   "metadata": {},
   "outputs": [
    {
     "data": {
      "text/plain": [
       "False"
      ]
     },
     "execution_count": 8,
     "metadata": {},
     "output_type": "execute_result"
    }
   ],
   "source": [
    "#Logical Operators\n",
    "\n",
    "(10>50) and (50>10)"
   ]
  },
  {
   "cell_type": "code",
   "execution_count": 9,
   "id": "91da9161",
   "metadata": {},
   "outputs": [
    {
     "data": {
      "text/plain": [
       "True"
      ]
     },
     "execution_count": 9,
     "metadata": {},
     "output_type": "execute_result"
    }
   ],
   "source": [
    "(10>50) or (50>10)"
   ]
  },
  {
   "cell_type": "code",
   "execution_count": 10,
   "id": "985fa7b7",
   "metadata": {},
   "outputs": [
    {
     "data": {
      "text/plain": [
       "True"
      ]
     },
     "execution_count": 10,
     "metadata": {},
     "output_type": "execute_result"
    }
   ],
   "source": [
    "not(10>50)"
   ]
  },
  {
   "cell_type": "code",
   "execution_count": 11,
   "id": "9b407ae1",
   "metadata": {},
   "outputs": [
    {
     "data": {
      "text/plain": [
       "True"
      ]
     },
     "execution_count": 11,
     "metadata": {},
     "output_type": "execute_result"
    }
   ],
   "source": [
    "#Membership Operators\n",
    "\n",
    "ice_cream = \"I love butter scotch ice-cream\"\n",
    "\n",
    "'love' in ice_cream"
   ]
  },
  {
   "cell_type": "code",
   "execution_count": 12,
   "id": "3f864d6f",
   "metadata": {},
   "outputs": [
    {
     "data": {
      "text/plain": [
       "False"
      ]
     },
     "execution_count": 12,
     "metadata": {},
     "output_type": "execute_result"
    }
   ],
   "source": [
    "scoops = [1,4,5,6]\n",
    "\n",
    "2 in scoops"
   ]
  },
  {
   "cell_type": "markdown",
   "id": "ef91f638",
   "metadata": {},
   "source": [
    "<b><u><h1>Statement : If-Else-Elif"
   ]
  },
  {
   "cell_type": "code",
   "execution_count": 18,
   "id": "7b92dcae",
   "metadata": {},
   "outputs": [
    {
     "name": "stdout",
     "output_type": "stream",
     "text": [
      "It works\n"
     ]
    }
   ],
   "source": [
    "if 15>10:\n",
    "    print('It works')"
   ]
  },
  {
   "cell_type": "code",
   "execution_count": 15,
   "id": "64095d23",
   "metadata": {},
   "outputs": [
    {
     "name": "stdout",
     "output_type": "stream",
     "text": [
      "It do not work\n"
     ]
    }
   ],
   "source": [
    "if 15<10:\n",
    "    print('It works')\n",
    "else:\n",
    "    print('It do not work')"
   ]
  },
  {
   "cell_type": "code",
   "execution_count": 16,
   "id": "8c5c978f",
   "metadata": {},
   "outputs": [
    {
     "name": "stdout",
     "output_type": "stream",
     "text": [
      "Elif works\n"
     ]
    }
   ],
   "source": [
    "if 15<10:\n",
    "    print('If works')\n",
    "elif 15<25:\n",
    "    print('Elif works')\n",
    "else:\n",
    "    print('Else works')\n",
    "    "
   ]
  },
  {
   "cell_type": "code",
   "execution_count": 19,
   "id": "171744c3",
   "metadata": {},
   "outputs": [
    {
     "name": "stdout",
     "output_type": "stream",
     "text": [
      "It do not work\n"
     ]
    }
   ],
   "source": [
    "print(\"It works\") if 10>15 else print('It do not work')"
   ]
  },
  {
   "cell_type": "code",
   "execution_count": 22,
   "id": "af7cf841",
   "metadata": {},
   "outputs": [
    {
     "name": "stdout",
     "output_type": "stream",
     "text": [
      "If works\n",
      "Nested if works\n"
     ]
    }
   ],
   "source": [
    "#Nested if statement\n",
    "\n",
    "if (10<15) or (1<3):\n",
    "    print('If works')\n",
    "    if 10>5:\n",
    "        print('Nested if works')\n",
    "elif 15<11:\n",
    "    print('Elif works')\n",
    "else:\n",
    "    print('Else works')"
   ]
  },
  {
   "cell_type": "markdown",
   "id": "42f314bf",
   "metadata": {},
   "source": [
    "<b><u><h1>For Lopps"
   ]
  },
  {
   "cell_type": "code",
   "execution_count": 26,
   "id": "50739e42",
   "metadata": {},
   "outputs": [],
   "source": [
    "integers = [1,2,3,4,5]"
   ]
  },
  {
   "cell_type": "code",
   "execution_count": 27,
   "id": "2951d2d6",
   "metadata": {},
   "outputs": [
    {
     "name": "stdout",
     "output_type": "stream",
     "text": [
      "1\n",
      "2\n",
      "3\n",
      "4\n",
      "5\n"
     ]
    }
   ],
   "source": [
    "for number in integers:\n",
    "    print(number)"
   ]
  },
  {
   "cell_type": "code",
   "execution_count": 28,
   "id": "f36e55f9",
   "metadata": {},
   "outputs": [
    {
     "name": "stdout",
     "output_type": "stream",
     "text": [
      "Yes\n",
      "Yes\n",
      "Yes\n",
      "Yes\n",
      "Yes\n"
     ]
    }
   ],
   "source": [
    "for number in integers:\n",
    "    print('Yes')"
   ]
  },
  {
   "cell_type": "code",
   "execution_count": 49,
   "id": "d2252903",
   "metadata": {},
   "outputs": [],
   "source": [
    "dict_ice_cream = {'name': 'Data Analyst', 'weekly intake': 4, 'Favorite ice cream': ['Strawberry', 'Butter Scotch']}"
   ]
  },
  {
   "cell_type": "code",
   "execution_count": 46,
   "id": "d551b3fc",
   "metadata": {},
   "outputs": [
    {
     "name": "stdout",
     "output_type": "stream",
     "text": [
      "Data Analyst\n",
      "4\n",
      "['Strawberry', 'Butter Scotch']\n"
     ]
    }
   ],
   "source": [
    "for ice in dict_ice_cream.values():\n",
    "    print(ice)"
   ]
  },
  {
   "cell_type": "code",
   "execution_count": 51,
   "id": "8ef0711f",
   "metadata": {},
   "outputs": [
    {
     "name": "stdout",
     "output_type": "stream",
     "text": [
      "name --> Data Analyst\n",
      "weekly intake --> 4\n",
      "Favorite ice cream --> ['Strawberry', 'Butter Scotch']\n"
     ]
    }
   ],
   "source": [
    "for key, values in dict_ice_cream.items():\n",
    "    print(key,'-->', values)"
   ]
  },
  {
   "cell_type": "markdown",
   "id": "1b7d483c",
   "metadata": {},
   "source": [
    "<b><u><h1>Nested FOr Loops"
   ]
  },
  {
   "cell_type": "code",
   "execution_count": 53,
   "id": "b8fe0400",
   "metadata": {},
   "outputs": [],
   "source": [
    "dishes = ['Pizza', 'Burger', 'French-Fries']\n",
    "add_ons = ['Coke', 'Cheez','Myonnaise']"
   ]
  },
  {
   "cell_type": "code",
   "execution_count": 54,
   "id": "bf2a6fb1",
   "metadata": {},
   "outputs": [
    {
     "name": "stdout",
     "output_type": "stream",
     "text": [
      "Pizza  with  Coke\n",
      "Pizza  with  Cheez\n",
      "Pizza  with  Myonnaise\n",
      "Burger  with  Coke\n",
      "Burger  with  Cheez\n",
      "Burger  with  Myonnaise\n",
      "French-Fries  with  Coke\n",
      "French-Fries  with  Cheez\n",
      "French-Fries  with  Myonnaise\n"
     ]
    }
   ],
   "source": [
    "for one in dishes:\n",
    "    for two in add_ons:\n",
    "        print(one, \" with \", two)"
   ]
  },
  {
   "cell_type": "markdown",
   "id": "9e31f991",
   "metadata": {},
   "source": [
    "<b><u>While Loops<b><u>"
   ]
  },
  {
   "cell_type": "code",
   "execution_count": 1,
   "id": "0555222a",
   "metadata": {},
   "outputs": [
    {
     "name": "stdout",
     "output_type": "stream",
     "text": [
      "0\n",
      "1\n",
      "2\n",
      "3\n",
      "4\n"
     ]
    }
   ],
   "source": [
    "number = 0\n",
    "while number<5:\n",
    "    print(number)\n",
    "    number = number + 1"
   ]
  },
  {
   "cell_type": "code",
   "execution_count": 7,
   "id": "54e326a5",
   "metadata": {},
   "outputs": [
    {
     "name": "stdout",
     "output_type": "stream",
     "text": [
      "0\n",
      "1\n",
      "2\n",
      "3\n"
     ]
    }
   ],
   "source": [
    "#break\n",
    "number = 0\n",
    "while number<5:\n",
    "    print(number)\n",
    "    if number == 3:\n",
    "        break\n",
    "    number = number + 1\n"
   ]
  },
  {
   "cell_type": "code",
   "execution_count": 8,
   "id": "4792dfd8",
   "metadata": {},
   "outputs": [
    {
     "name": "stdout",
     "output_type": "stream",
     "text": [
      "0\n",
      "1\n",
      "2\n",
      "3\n",
      "4\n",
      "No longer less than 5\n"
     ]
    }
   ],
   "source": [
    "#Else works when while loop no longer work.\n",
    "number = 0\n",
    "while number<5:\n",
    "    print(number)\n",
    "    if number == 6:\n",
    "        break\n",
    "    number = number + 1\n",
    "else:\n",
    "    print(\"No longer less than 5\")"
   ]
  },
  {
   "cell_type": "code",
   "execution_count": 11,
   "id": "d4ad5626",
   "metadata": {},
   "outputs": [
    {
     "name": "stdout",
     "output_type": "stream",
     "text": [
      "1\n",
      "2\n",
      "4\n",
      "5\n",
      "No longer less than 5\n"
     ]
    }
   ],
   "source": [
    "#Continue.\n",
    "\n",
    "number = 0\n",
    "while number<5:\n",
    "    number = number + 1\n",
    "    if number == 3:\n",
    "        continue   \n",
    "    print(number)    \n",
    "else:\n",
    "    print(\"No longer less than 5\")"
   ]
  },
  {
   "cell_type": "markdown",
   "id": "db01ef18",
   "metadata": {},
   "source": [
    "<b><u><h1>Functions"
   ]
  },
  {
   "cell_type": "code",
   "execution_count": 14,
   "id": "0ae61722",
   "metadata": {},
   "outputs": [
    {
     "name": "stdout",
     "output_type": "stream",
     "text": [
      "Function work well\n"
     ]
    }
   ],
   "source": [
    "def func():\n",
    "    print(\"Function work well\")\n",
    "    \n",
    "func()"
   ]
  },
  {
   "cell_type": "code",
   "execution_count": 19,
   "id": "f7df75f0",
   "metadata": {},
   "outputs": [
    {
     "name": "stdout",
     "output_type": "stream",
     "text": [
      "25\n"
     ]
    }
   ],
   "source": [
    "def number_squared(number):\n",
    "    print(number**2)\n",
    "    \n",
    "number_squared(5)"
   ]
  },
  {
   "cell_type": "code",
   "execution_count": 23,
   "id": "3b81f38b",
   "metadata": {},
   "outputs": [
    {
     "name": "stdout",
     "output_type": "stream",
     "text": [
      "30\n"
     ]
    }
   ],
   "source": [
    "args_tuple=(5,6,1,2)\n",
    "\n",
    "def number_args(*number):\n",
    "    print(number[0]*number[1])\n",
    "    \n",
    "number_args(*args_tuple)"
   ]
  },
  {
   "cell_type": "code",
   "execution_count": 28,
   "id": "2856491f",
   "metadata": {},
   "outputs": [],
   "source": [
    "def num_square_manual(number, power):\n",
    "    print(number**power)"
   ]
  },
  {
   "cell_type": "code",
   "execution_count": 30,
   "id": "2f1d062e",
   "metadata": {},
   "outputs": [
    {
     "name": "stdout",
     "output_type": "stream",
     "text": [
      "100\n"
     ]
    }
   ],
   "source": [
    "num_square_manual(number=10, power=2)"
   ]
  },
  {
   "cell_type": "code",
   "execution_count": 43,
   "id": "dc8653f7",
   "metadata": {},
   "outputs": [],
   "source": [
    "def multiple_num_show(**number):\n",
    "    print(\"My number is: \" + number['integer1'] + \" My other number is: \" + number['integer2'])"
   ]
  },
  {
   "cell_type": "code",
   "execution_count": 44,
   "id": "45d3f21a",
   "metadata": {},
   "outputs": [
    {
     "name": "stdout",
     "output_type": "stream",
     "text": [
      "My number is: 180280 My other number is: 789827\n"
     ]
    }
   ],
   "source": [
    "multiple_num_show(integer1='180280', integer2='789827')"
   ]
  },
  {
   "cell_type": "markdown",
   "id": "71e21bab",
   "metadata": {},
   "source": [
    "<b><u><h1>Convert Data Types"
   ]
  },
  {
   "cell_type": "code",
   "execution_count": 51,
   "id": "047e7106",
   "metadata": {},
   "outputs": [
    {
     "data": {
      "text/plain": [
       "int"
      ]
     },
     "execution_count": 51,
     "metadata": {},
     "output_type": "execute_result"
    }
   ],
   "source": [
    "num_int = 70\n",
    "\n",
    "type(num_int)"
   ]
  },
  {
   "cell_type": "code",
   "execution_count": 49,
   "id": "7b5c41c8",
   "metadata": {},
   "outputs": [
    {
     "data": {
      "text/plain": [
       "str"
      ]
     },
     "execution_count": 49,
     "metadata": {},
     "output_type": "execute_result"
    }
   ],
   "source": [
    "num_str = '70'\n",
    "type(num_str)"
   ]
  },
  {
   "cell_type": "code",
   "execution_count": 52,
   "id": "e9af9981",
   "metadata": {},
   "outputs": [
    {
     "ename": "TypeError",
     "evalue": "unsupported operand type(s) for +: 'int' and 'str'",
     "output_type": "error",
     "traceback": [
      "\u001b[1;31m---------------------------------------------------------------------------\u001b[0m",
      "\u001b[1;31mTypeError\u001b[0m                                 Traceback (most recent call last)",
      "\u001b[1;32m~\\AppData\\Local\\Temp\\ipykernel_5608\\2298309565.py\u001b[0m in \u001b[0;36m<module>\u001b[1;34m\u001b[0m\n\u001b[0;32m      1\u001b[0m \u001b[1;31m#Error\u001b[0m\u001b[1;33m\u001b[0m\u001b[1;33m\u001b[0m\u001b[0m\n\u001b[1;32m----> 2\u001b[1;33m \u001b[0mnum_concate\u001b[0m \u001b[1;33m=\u001b[0m \u001b[0mnum_int\u001b[0m \u001b[1;33m+\u001b[0m \u001b[0mnum_str\u001b[0m\u001b[1;33m\u001b[0m\u001b[1;33m\u001b[0m\u001b[0m\n\u001b[0m\u001b[0;32m      3\u001b[0m \u001b[1;33m\u001b[0m\u001b[0m\n\u001b[0;32m      4\u001b[0m \u001b[0mprint\u001b[0m\u001b[1;33m(\u001b[0m\u001b[0mnum_concate\u001b[0m\u001b[1;33m)\u001b[0m\u001b[1;33m\u001b[0m\u001b[1;33m\u001b[0m\u001b[0m\n",
      "\u001b[1;31mTypeError\u001b[0m: unsupported operand type(s) for +: 'int' and 'str'"
     ]
    }
   ],
   "source": [
    "#Error\n",
    "num_concate = num_int + num_str\n",
    "\n",
    "print(num_concate)"
   ]
  },
  {
   "cell_type": "code",
   "execution_count": 54,
   "id": "a196cc53",
   "metadata": {},
   "outputs": [
    {
     "name": "stdout",
     "output_type": "stream",
     "text": [
      "7070\n"
     ]
    },
    {
     "data": {
      "text/plain": [
       "int"
      ]
     },
     "execution_count": 54,
     "metadata": {},
     "output_type": "execute_result"
    }
   ],
   "source": [
    "#Conversion\n",
    "num_concate_convt = num_int + int(num_str)\n",
    "\n",
    "print(num_concate)\n",
    "type(num_concate_convt)"
   ]
  },
  {
   "cell_type": "code",
   "execution_count": 56,
   "id": "4b8d5f8a",
   "metadata": {},
   "outputs": [
    {
     "data": {
      "text/plain": [
       "list"
      ]
     },
     "execution_count": 56,
     "metadata": {},
     "output_type": "execute_result"
    }
   ],
   "source": [
    "#List to tuple\n",
    "list = [1,3,5]\n",
    "type(list)"
   ]
  },
  {
   "cell_type": "code",
   "execution_count": 58,
   "id": "27c6fa96",
   "metadata": {},
   "outputs": [
    {
     "data": {
      "text/plain": [
       "tuple"
      ]
     },
     "execution_count": 58,
     "metadata": {},
     "output_type": "execute_result"
    }
   ],
   "source": [
    "type(tuple(list))"
   ]
  },
  {
   "cell_type": "code",
   "execution_count": 59,
   "id": "10d817fb",
   "metadata": {},
   "outputs": [
    {
     "data": {
      "text/plain": [
       "list"
      ]
     },
     "execution_count": 59,
     "metadata": {},
     "output_type": "execute_result"
    }
   ],
   "source": [
    "type(list)"
   ]
  },
  {
   "cell_type": "code",
   "execution_count": 60,
   "id": "72c95f20",
   "metadata": {},
   "outputs": [],
   "source": [
    "#list to set\n",
    "list2=[1,2,4,6,8]"
   ]
  },
  {
   "cell_type": "code",
   "execution_count": 61,
   "id": "e46f29d4",
   "metadata": {},
   "outputs": [
    {
     "data": {
      "text/plain": [
       "{1, 2, 4, 6, 8}"
      ]
     },
     "execution_count": 61,
     "metadata": {},
     "output_type": "execute_result"
    }
   ],
   "source": [
    "set(list2)"
   ]
  },
  {
   "cell_type": "code",
   "execution_count": 2,
   "id": "0196ddbf",
   "metadata": {},
   "outputs": [
    {
     "data": {
      "text/plain": [
       "dict"
      ]
     },
     "execution_count": 2,
     "metadata": {},
     "output_type": "execute_result"
    }
   ],
   "source": [
    "#Dictionary to list\n",
    "dict_org = {'name': 'Data Wala', 'age':29, 'gender': 'N/A'}\n",
    "\n",
    "type(dict_org)"
   ]
  },
  {
   "cell_type": "code",
   "execution_count": 71,
   "id": "28a36658",
   "metadata": {},
   "outputs": [
    {
     "data": {
      "text/plain": [
       "dict_values"
      ]
     },
     "execution_count": 71,
     "metadata": {},
     "output_type": "execute_result"
    }
   ],
   "source": [
    "type(dict_org.values())"
   ]
  },
  {
   "cell_type": "code",
   "execution_count": 72,
   "id": "d46d87d7",
   "metadata": {},
   "outputs": [
    {
     "data": {
      "text/plain": [
       "dict_keys"
      ]
     },
     "execution_count": 72,
     "metadata": {},
     "output_type": "execute_result"
    }
   ],
   "source": [
    "type(dict_org.keys())"
   ]
  },
  {
   "cell_type": "code",
   "execution_count": 74,
   "id": "90fed31f",
   "metadata": {},
   "outputs": [
    {
     "name": "stdout",
     "output_type": "stream",
     "text": [
      "dict_values(['Data Wala', 29, 'N/A'])\n"
     ]
    }
   ],
   "source": [
    "print(dict_org.values())"
   ]
  },
  {
   "cell_type": "code",
   "execution_count": 4,
   "id": "463e88a6",
   "metadata": {},
   "outputs": [
    {
     "name": "stdout",
     "output_type": "stream",
     "text": [
      "dict_keys(['name', 'age', 'gender'])\n"
     ]
    }
   ],
   "source": [
    "print(dict_org.keys())"
   ]
  },
  {
   "cell_type": "code",
   "execution_count": 9,
   "id": "4b6c0cbf",
   "metadata": {},
   "outputs": [
    {
     "data": {
      "text/plain": [
       "['name', 'age', 'gender']"
      ]
     },
     "execution_count": 9,
     "metadata": {},
     "output_type": "execute_result"
    }
   ],
   "source": [
    "list(dict_org.keys())\n"
   ]
  },
  {
   "cell_type": "code",
   "execution_count": 8,
   "id": "0a3cfb8f",
   "metadata": {},
   "outputs": [
    {
     "data": {
      "text/plain": [
       "list"
      ]
     },
     "execution_count": 8,
     "metadata": {},
     "output_type": "execute_result"
    }
   ],
   "source": [
    "type(list(dict_org.keys()))"
   ]
  },
  {
   "cell_type": "code",
   "execution_count": 10,
   "id": "5d25bb8f",
   "metadata": {},
   "outputs": [
    {
     "data": {
      "text/plain": [
       "['Data Wala', 29, 'N/A']"
      ]
     },
     "execution_count": 10,
     "metadata": {},
     "output_type": "execute_result"
    }
   ],
   "source": [
    "list(dict_org.values())"
   ]
  },
  {
   "cell_type": "code",
   "execution_count": 11,
   "id": "2815efbe",
   "metadata": {},
   "outputs": [
    {
     "data": {
      "text/plain": [
       "list"
      ]
     },
     "execution_count": 11,
     "metadata": {},
     "output_type": "execute_result"
    }
   ],
   "source": [
    "type(list(dict_org.keys()))"
   ]
  },
  {
   "cell_type": "code",
   "execution_count": 13,
   "id": "8a13faf5",
   "metadata": {},
   "outputs": [
    {
     "data": {
      "text/plain": [
       "['I', ' ', 'l', 'i', 'k', 'e', ' ', 't', 'o', ' ', 'p', 'a', 'r', 't', 'y']"
      ]
     },
     "execution_count": 13,
     "metadata": {},
     "output_type": "execute_result"
    }
   ],
   "source": [
    "#long list to string\n",
    "long_str = \"I like to party\"\n",
    "\n",
    "list(long_str)"
   ]
  },
  {
   "cell_type": "code",
   "execution_count": 14,
   "id": "af8dcf11",
   "metadata": {},
   "outputs": [
    {
     "data": {
      "text/plain": [
       "{' ', 'I', 'a', 'e', 'i', 'k', 'l', 'o', 'p', 'r', 't', 'y'}"
      ]
     },
     "execution_count": 14,
     "metadata": {},
     "output_type": "execute_result"
    }
   ],
   "source": [
    "#long list to set\n",
    "long_str = \"I like to party\"\n",
    "\n",
    "set(long_str)"
   ]
  },
  {
   "cell_type": "code",
   "execution_count": null,
   "id": "cb881891",
   "metadata": {},
   "outputs": [],
   "source": []
  }
 ],
 "metadata": {
  "kernelspec": {
   "display_name": "Python 3 (ipykernel)",
   "language": "python",
   "name": "python3"
  },
  "language_info": {
   "codemirror_mode": {
    "name": "ipython",
    "version": 3
   },
   "file_extension": ".py",
   "mimetype": "text/x-python",
   "name": "python",
   "nbconvert_exporter": "python",
   "pygments_lexer": "ipython3",
   "version": "3.9.13"
  }
 },
 "nbformat": 4,
 "nbformat_minor": 5
}
